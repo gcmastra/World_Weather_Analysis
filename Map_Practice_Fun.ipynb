{
 "cells": [
  {
   "cell_type": "code",
   "execution_count": null,
   "id": "ff7859fd",
   "metadata": {},
   "outputs": [],
   "source": [
    "# Map practice from the gmaps documentation\n",
    "# URL https://jupyter-gmaps.readthedocs.io/en/v0.3.2/gmaps.html\n",
    "\n",
    "# Import the dependencies.\n",
    "import pandas as pd\n",
    "\n",
    "import numpy as np\n",
    "import random\n",
    "\n",
    "# very important to include this module - this is what was causing error\n",
    "import requests\n",
    "\n",
    "# Use the citipy module to determine city based on latitude and longitude.\n",
    "from citipy import citipy\n",
    "\n",
    "# Import the datetime module from the datetime library.\n",
    "from datetime import datetime\n",
    "\n",
    "# check do we have the config.py set up correctly and linked into this notebook? \n",
    "from config import weather_api_key\n",
    "\n",
    "# still need to install gmaps in the back end using anaconda prompt- this might be a good office hours question\n",
    "# it was still waiting for a y/n answer so it had not installed yet\n",
    "import gmaps\n",
    "import gmaps.datasets\n",
    "\n",
    "import requests\n",
    "# Import the API key.\n",
    "from config import g_key\n",
    "\n",
    "# Configure gmaps to use your Google API key.\n",
    "gmaps.configure(api_key=g_key)\n"
   ]
  },
  {
   "cell_type": "code",
   "execution_count": null,
   "id": "f2f711a5",
   "metadata": {},
   "outputs": [],
   "source": [
    "# generate some data - this is an example, I will make my own \n",
    "# why does it open the map in Geneva as the default? \n",
    "\n",
    "# This is from the gmaps getting started documentation\n",
    "# I thought if I could get THIS to work then the other heat map would work too\n",
    "# Henry (TA) Helped me fix this on July 27- I still needed to enable two modules in anaconda\n",
    "# jupyter nbextension enable --py gmaps\n",
    "# jupyter nbextension enable --py widgetsnbextension\n",
    "\n",
    "\n",
    "earthquake_df = gmaps.datasets.load_dataset_as_df('earthquakes')\n",
    "earthquake_df.head()"
   ]
  },
  {
   "cell_type": "code",
   "execution_count": null,
   "id": "f5fa82cd",
   "metadata": {},
   "outputs": [],
   "source": [
    "locations = earthquake_df[['latitude', 'longitude']]\n",
    "weights = earthquake_df['magnitude']\n",
    "fig = gmaps.figure()\n",
    "fig.add_layer(gmaps.heatmap_layer(locations, weights=weights))\n",
    "# fig\n",
    "\n",
    "earthquake_df"
   ]
  },
  {
   "cell_type": "code",
   "execution_count": null,
   "id": "8b249d4c",
   "metadata": {},
   "outputs": [],
   "source": [
    "# first test my city to pick some USA cities and get the data for them \n",
    "# my_city = citipy.nearest_city(40.1, -96.2).city_name\n",
    "my_x = 39.117\n",
    "my_y = -94.4\n",
    "\n",
    "my_city = citipy.nearest_city(my_x,my_y).city_name\n",
    "my_country = citipy.nearest_city(my_x,my_y).country_code\n",
    "print(my_city, my_country)"
   ]
  },
  {
   "cell_type": "code",
   "execution_count": null,
   "id": "6596f3c6",
   "metadata": {},
   "outputs": [],
   "source": [
    "# make one more alternate version of the lats list - in equal increments but \"reflecting off the wall\"\n",
    "# for the increment pick something that is not close to a multiple of whole numbers like the quotient of two primes\n",
    "# I will generate 200 values on both x and y coords that you can choose to use or not use\n",
    "lattice_x = []\n",
    "lattice_y = []\n",
    "# starting lat/lng is geographic center of CONUS\n",
    "last_lat = 37.27\n",
    "last_lng = -93.32\n",
    "# as increments use a ration of prime numbers so the sequence will not repeat\n",
    "lat_increment = round(17/13 ,2)\n",
    "lng_increment = round(61/23 ,2)\n",
    "for i in range(200):\n",
    "    # percent sign is modulo operator\n",
    "    new_lat = 24 + round((last_lat + lat_increment) % 24,2)\n",
    "    new_lng = -123 + round((last_lng + lng_increment) % 54,2)\n",
    "\n",
    "    lattice_x.append(new_lat)\n",
    "    lattice_y.append(new_lng)\n",
    "\n",
    "    last_lat = round(new_lat,2)\n",
    "    last_lng = round(new_lng,2)\n",
    "\n",
    "    # how do we round to 2 decimal places\n",
    "# will this terminate    "
   ]
  },
  {
   "cell_type": "code",
   "execution_count": null,
   "id": "41ac4f6a",
   "metadata": {},
   "outputs": [],
   "source": [
    "# the lattice will scroll through the range of lats multiple times in sequence but with no repeats\n",
    "# the lng values can still be random unless I still am not satisfied\n",
    "len(lattice_x)\n"
   ]
  },
  {
   "cell_type": "code",
   "execution_count": null,
   "id": "4045a5f0",
   "metadata": {},
   "outputs": [],
   "source": [
    "\n",
    "my_lats = np.random.uniform(low=24.000, high=49.000, size=200)\n",
    "# US lng ranes from -124 WA to -66.0 Maine\n",
    "my_lngs = np.random.uniform(low=-125.000, high=-65.000, size=201)\n",
    "# my_lngs\n",
    "# random doesn't really give me the coverage I want but lets see the map before we decide\n",
    "lattice_y"
   ]
  },
  {
   "cell_type": "code",
   "execution_count": null,
   "id": "94b04fb1",
   "metadata": {},
   "outputs": [],
   "source": [
    "my_lats"
   ]
  },
  {
   "cell_type": "code",
   "execution_count": null,
   "id": "c94034bf",
   "metadata": {},
   "outputs": [],
   "source": [
    "# The pin drops are all banding into the same range of lats/longs so it is still not really a random sample\n",
    "# some states got multiple hits and some got none at all - see pin drop map in last frame\n",
    "# maybe the only way to really cover all 50 states is to do a lattice\n",
    "\n",
    "counter = 0\n",
    "\n",
    "# change my_lats to lattice_x for testing\n",
    "for i in range(200):\n",
    "    print(lattice_x[i], lattice_y[i])\n",
    "    \n",
    "    counter +=1\n",
    "# nex t - making a bunch of citypy calls   \n",
    "\n"
   ]
  },
  {
   "cell_type": "code",
   "execution_count": null,
   "id": "d1f425fb",
   "metadata": {},
   "outputs": [],
   "source": [
    "# use the new lattice_x for this test to replace my_lats\n",
    "my_zip = zip(lattice_x, lattice_y)\n",
    "my_new_list = list(my_zip)\n",
    "len(my_new_list)\n",
    "# my_new_list[:10]"
   ]
  },
  {
   "cell_type": "code",
   "execution_count": null,
   "id": "0bb2ed52",
   "metadata": {},
   "outputs": [],
   "source": [
    "# now I have a DF of exactly 10 GPS coords\n",
    "new_df = pd.DataFrame(my_new_list[:150],columns=['Lat', 'Lng'])\n",
    "new_df.head(20)\n"
   ]
  },
  {
   "cell_type": "code",
   "execution_count": null,
   "id": "d1d2d2e7",
   "metadata": {},
   "outputs": [],
   "source": [
    "# Create a list for holding the cities.\n",
    "my_cities = []\n",
    "all_my_cities = []\n",
    "# Identify the nearest city for each latitude and longitude combination.\n",
    "# substitute lattic_x for my_lats\n",
    "for lat in lattice_x:\n",
    "    lat_shift = 2.2\n",
    "    lng_shift = 0.5\n",
    "    # using the lattice_x method we will not need the SHIFT any more\n",
    "    lng = my_lngs[counter]\n",
    "    my_city = citipy.nearest_city(lat+lat_shift, lng+lng_shift).city_name\n",
    "\n",
    "    # get a list of all the cities for testing to see which city had the most hits\n",
    "    all_my_cities.append(my_city)\n",
    "\n",
    "    # If the city is unique, then we will add it to the cities list.\n",
    "    if my_city not in my_cities:\n",
    "        my_cities.append(my_city)\n",
    "\n",
    "# Print the city count to confirm sufficient count.\n",
    "# len(all_my_cities)\n",
    "all_my_cities\n",
    "\n",
    "# with 200 random points we only got 32 unique places - that seems odd\n",
    "# also I would like to select only cities above a certain population, not just any city with over 500 people\n",
    "# am I supposed to believe that for every pin dropped in the gulf of Mexico, 'santander jimenez' is the only nearest city?\n",
    "# its hard to believe - I am going to test citypy more to see if I give it the exact coords of a city what does it return\n",
    "# also I am going to randomize the pin points even further by adding a small increment to the lat value\n",
    "# with a lattice for both x and y we get lompoc and san quintin a lot but i think we get more variety"
   ]
  },
  {
   "cell_type": "code",
   "execution_count": null,
   "id": "87402e79",
   "metadata": {},
   "outputs": [],
   "source": [
    "# this is crazy that my new method results in fewer cities and more duplicates - how is that possible ?\n",
    "# maybe I have to see the pins on the map to realize what happened- where is hamilton anyway and why so many?\n",
    "# with lattice-y included we get seattle and tacoma but the list of cities is still shorter than I hoped\n",
    "my_cities"
   ]
  },
  {
   "cell_type": "code",
   "execution_count": null,
   "id": "32964e07",
   "metadata": {},
   "outputs": [],
   "source": [
    "len(my_cities)"
   ]
  },
  {
   "cell_type": "code",
   "execution_count": null,
   "id": "558257d1",
   "metadata": {},
   "outputs": [],
   "source": [
    "# finish set up for the map layer \n",
    "try_weights = [10,10,10,10,10,10,10,10,10,10]\n",
    "\n",
    "# this should give me a list of all 10s the same lenth as the number of lats\n",
    "my_weights = []\n",
    "for lat in my_lats:\n",
    "        my_weights.append(20)\n",
    "           \n",
    "# can I use 10 random points to make my own map layer ?\n",
    "len(my_weights)"
   ]
  },
  {
   "cell_type": "code",
   "execution_count": null,
   "id": "55cbb25c",
   "metadata": {},
   "outputs": [],
   "source": [
    "# only run this last cell when you are ready - these are the pin drops before we link them to a city\n",
    "fig = gmaps.figure()\n",
    "heat_layer = gmaps.heatmap_layer(new_df, weights=my_weights[:150])\n",
    "fig.add_layer(heat_layer)\n",
    "fig\n",
    "\n",
    "# fig.add_layer(gmaps.heatmap_layer(my_new_df, weights=my_weights[:150]))\n",
    "# fig\n",
    "# This is the map of just the pins we are dropping on the map, not the nearest city\n",
    "# Do I get charged $$ every time I generate a new map ? ? ? ?"
   ]
  },
  {
   "cell_type": "code",
   "execution_count": null,
   "id": "96d4e7de",
   "metadata": {},
   "outputs": [],
   "source": []
  }
 ],
 "metadata": {
  "kernelspec": {
   "display_name": "PythonData",
   "language": "python",
   "name": "pythondata"
  },
  "language_info": {
   "codemirror_mode": {
    "name": "ipython",
    "version": 3
   },
   "file_extension": ".py",
   "mimetype": "text/x-python",
   "name": "python",
   "nbconvert_exporter": "python",
   "pygments_lexer": "ipython3",
   "version": "3.7.10"
  }
 },
 "nbformat": 4,
 "nbformat_minor": 5
}
