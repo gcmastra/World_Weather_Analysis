{
 "cells": [
  {
   "cell_type": "code",
   "execution_count": null,
   "id": "3ea1fb7b",
   "metadata": {},
   "outputs": [],
   "source": [
    "# Import the dependencies.\n",
    "import pandas as pd\n",
    "import matplotlib.pyplot as plt\n",
    "import numpy as np\n",
    "import random\n",
    "\n",
    "# very important to include this module - this is what was causing error\n",
    "import requests\n",
    "\n",
    "# Use the citipy module to determine city based on latitude and longitude.\n",
    "from citipy import citipy\n",
    "\n",
    "# Import the datetime module from the datetime library.\n",
    "from datetime import datetime\n",
    "\n",
    "# check do we have the config.py set up correctly and linked into this notebook? \n",
    "from config import weather_api_key"
   ]
  },
  {
   "cell_type": "code",
   "execution_count": null,
   "id": "ca5532f6",
   "metadata": {},
   "outputs": [],
   "source": [
    "# Build the basic URL for the OpenWeatherMap with your weather_api_key added to the URL\n",
    "# Also I already added the ViewJSON extension to my Chrome Browser\n",
    "\n",
    "# Starting URL for Weather Map API Call.\n",
    "url = \"http://api.openweathermap.org/data/2.5/weather?units=Imperial&APPID=\" + weather_api_key\n",
    "\n",
    "# Create an endpoint URL for a city.\n",
    "# make sure to reset the kernel and clear output before uploading this notebook or comment out the print statements\n",
    "city_url = url + \"&q=\" + \"cabo\"\n",
    "\n",
    "# Cabo and Cabo+San+Lucas are two different cities- Cabo alone brings up Cabo De Santo Augustinho in Brazil pop 208,000\n",
    "# Remenber to remove or comment out the actual URL which includes the key so it is not displayed as open text\n",
    "# print(city_url)"
   ]
  },
  {
   "cell_type": "code",
   "execution_count": null,
   "id": "7f668811",
   "metadata": {},
   "outputs": [],
   "source": [
    "# Create a set of random latitude and longitude combinations.\n",
    "# I think -90 to 90 is too likely to pick a non populated area\n",
    "# Even using -60 to 70 you are going to get some extremely remote locations, most over water \n",
    "# adjust the max size to lower than 500 for the purpose of testing and increase to 1500 when ready\n",
    "maxsize = 995\n",
    "lats = np.random.uniform(low=-55.000, high=72.000, size=maxsize)\n",
    "lngs = np.random.uniform(low=-180.000, high=180.000, size=maxsize)\n",
    "lat_lngs = zip(lats, lngs)\n",
    "lat_lngs"
   ]
  },
  {
   "cell_type": "code",
   "execution_count": null,
   "id": "446ff485",
   "metadata": {},
   "outputs": [],
   "source": [
    "# this list() function does not seem to work.  Should it be preceded with pd.list() or some other class object? \n",
    "# no it just seems to be the size.  it doesn't like maxsize=650 or higher - it works when maxsize <= 650\n",
    "newlats = list(lat_lngs)\n",
    "# newlats\n",
    "#for lat_lng in lat_lngs:\n",
    "#    print(lat_lng[0], lat_lng[1])\n",
    "len(newlats)"
   ]
  },
  {
   "cell_type": "code",
   "execution_count": null,
   "id": "9196d2fa",
   "metadata": {},
   "outputs": [],
   "source": [
    "# Add the latitudes and longitudes to a list.\n",
    "# coordinates = list(lat_lngs)\n",
    "# len(coordinates)\n",
    "\n",
    "# this fails because you only get to unzip ONCE\n",
    "#so how about if I just assignthe newlats to a new variable name ? \n",
    "coordinates = newlats\n",
    "len(coordinates)"
   ]
  },
  {
   "cell_type": "code",
   "execution_count": null,
   "id": "14d6b1ea",
   "metadata": {},
   "outputs": [],
   "source": [
    "# Create a list for holding the cities.\n",
    "cities = []\n",
    "# Identify the nearest city for each latitude and longitude combination.\n",
    "for coordinate in coordinates:\n",
    "    city = citipy.nearest_city(coordinate[0], coordinate[1]).city_name\n",
    "\n",
    "    # If the city is unique, then we will add it to the cities list.\n",
    "    if city not in cities:\n",
    "        cities.append(city)\n",
    "# Print the city count to confirm sufficient count.\n",
    "# len(cities)\n",
    "cities"
   ]
  },
  {
   "cell_type": "code",
   "execution_count": null,
   "id": "feebf27d",
   "metadata": {},
   "outputs": [],
   "source": [
    "# okay so we have more than 500 cities but should we eliminate some with low populations? can we get population data? \n",
    "# why did this work in API_practice but not in the main notebook?  still a mystery\n",
    "# I already know the nearest_city function only shows cities with population > 5000 people\n",
    "# but honestly who is going to Northwest Territories in Canada for a vacation?\n",
    "# also what about cities where there are more that one with the same name like wilmington or springfield ? \n",
    "len(cities)"
   ]
  },
  {
   "cell_type": "code",
   "execution_count": null,
   "id": "475fc455",
   "metadata": {},
   "outputs": [],
   "source": [
    "# This is where the data import code begins in section 6.2.6\n",
    "# Must be sure to import requests module at the top of the notebook for any of this to work \n",
    "\n",
    "# Create an empty list to hold the weather data.\n",
    "city_data = []\n",
    "# Print the beginning of the logging.\n",
    "print(\"Beginning Data Retrieval     \")\n",
    "print(\"-----------------------------\")\n",
    "\n",
    "# Create counters.\n",
    "record_count = 1\n",
    "set_count = 1\n",
    "\n",
    "# Loop through all the cities in the list.\n",
    "for i, city in enumerate(cities):\n",
    "\n",
    "    # Group cities in sets of 50 for logging purposes.\n",
    "    if (i % 50 == 0 and i >= 50):\n",
    "        set_count += 1\n",
    "        record_count = 1\n",
    "    # Create endpoint URL with each city.\n",
    "    city_url = url + \"&q=\" + city.replace(\" \",\"+\")\n",
    "\n",
    "    # Log the URL, record, and set numbers and the city.\n",
    "    print(f\"Processing Record {record_count} of Set {set_count} | {city}\")\n",
    "    # Add 1 to the record count.\n",
    "    record_count += 1\n",
    "    \n",
    "    # Run an API request for each of the cities.\n",
    "    try:\n",
    "        # Parse the JSON and retrieve data.\n",
    "        city_weather = requests.get(city_url).json()\n",
    "        \n",
    "        # Parse out the needed data.\n",
    "        city_lat = city_weather[\"coord\"][\"lat\"]\n",
    "        city_lng = city_weather[\"coord\"][\"lon\"]\n",
    "        city_max_temp = city_weather[\"main\"][\"temp_max\"]\n",
    "        city_humidity = city_weather[\"main\"][\"humidity\"]\n",
    "        city_clouds = city_weather[\"clouds\"][\"all\"]\n",
    "        city_wind = city_weather[\"wind\"][\"speed\"]\n",
    "        city_country = city_weather[\"sys\"][\"country\"]\n",
    "        # Convert the date to ISO standard.\n",
    "        city_date = datetime.utcfromtimestamp(city_weather[\"dt\"]).strftime('%Y-%m-%d %H:%M:%S')\n",
    "        # Append the city information into city_data list.\n",
    "        city_data.append({\"City\": city.title(),\n",
    "                          \"Lat\": city_lat,\n",
    "                          \"Lng\": city_lng,\n",
    "                          \"Max Temp\": city_max_temp,\n",
    "                          \"Humidity\": city_humidity,\n",
    "                          \"Cloudiness\": city_clouds,\n",
    "                          \"Wind Speed\": city_wind,\n",
    "                          \"Country\": city_country,\n",
    "                          \"Date\": city_date})\n",
    "\n",
    "# If an error is experienced, skip the city.\n",
    "    except:\n",
    "        print(\"City not found. Skipping...\")\n",
    "        pass\n",
    "\n",
    "# Indicate that Data Loading is complete.\n",
    "print(\"-----------------------------\")\n",
    "print(\"Data Retrieval Complete      \")\n",
    "print(\"-----------------------------\")"
   ]
  },
  {
   "cell_type": "code",
   "execution_count": null,
   "id": "1e7739f3",
   "metadata": {},
   "outputs": [],
   "source": [
    "# total cities processed = 443 so now what do we do? \n",
    "\n",
    "# Convert the array of dictionaries to a Pandas DataFrame.\n",
    "city_data_df = pd.DataFrame(city_data)\n",
    "city_data_df.head(10)\n"
   ]
  },
  {
   "cell_type": "code",
   "execution_count": null,
   "id": "1f2c71f8",
   "metadata": {},
   "outputs": [],
   "source": [
    "city_data_df[\"Lat\"].min()\n"
   ]
  }
 ],
 "metadata": {
  "kernelspec": {
   "display_name": "PythonData",
   "language": "python",
   "name": "pythondata"
  },
  "language_info": {
   "codemirror_mode": {
    "name": "ipython",
    "version": 3
   },
   "file_extension": ".py",
   "mimetype": "text/x-python",
   "name": "python",
   "nbconvert_exporter": "python",
   "pygments_lexer": "ipython3",
   "version": "3.7.10"
  }
 },
 "nbformat": 4,
 "nbformat_minor": 5
}
