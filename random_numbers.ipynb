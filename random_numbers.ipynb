{
 "cells": [
  {
   "cell_type": "code",
   "execution_count": 1,
   "id": "42bf7e6c",
   "metadata": {},
   "outputs": [],
   "source": [
    "import random\n",
    "\n",
    "# Import the NumPy module.\n",
    "import numpy as np\n",
    "\n",
    "# Import timeit.\n",
    "import timeit"
   ]
  },
  {
   "cell_type": "code",
   "execution_count": 2,
   "id": "973c6ee3",
   "metadata": {},
   "outputs": [
    {
     "name": "stdout",
     "output_type": "stream",
     "text": [
      "65 -59\n",
      "[51.731356682154626, -0.1850059515495701, 59.77025243705327, 14.357782400382675, 10.682680395418117, 37.475385567722924, -20.308964092682068, 57.302060778691, 25.438841443731548, -48.661424956094514]\n",
      "[-98.96832263452764, 35.78999902279428, 97.57056156565908, -67.18370731118667, 81.53989628040625, 15.766514052537762, 135.96550143501543, -166.27888725018727, -148.0071078057903, 139.52655743532438]\n"
     ]
    }
   ],
   "source": [
    "random.randint(-60, 65)\n",
    "\n",
    "    \n",
    "random.random()\n",
    "\n",
    "lat_oslo = 60\n",
    "lat_tierra = -55\n",
    "max_lat = lat_oslo + 5\n",
    "min_lat = lat_tierra - 4\n",
    "print(max_lat, min_lat)\n",
    "\n",
    "x = 1\n",
    "latitudes = []\n",
    "while x < 11:\n",
    "    # random_lat = random.randint(min_lat, max_lat) + random.random()\n",
    "    random_lat = np.random.uniform(min_lat, max_lat)\n",
    "    latitudes.append(random_lat)\n",
    "    x += 1\n",
    "    \n",
    "latitudes\n",
    "\n",
    "longitudes = []\n",
    "y = 1\n",
    "while y < 11:\n",
    "    random_long = random.uniform(-180, 180) + random.random()\n",
    "    longitudes.append(random_long)\n",
    "    y += 1\n",
    "\n",
    "print(latitudes)\n",
    "print(longitudes)"
   ]
  },
  {
   "cell_type": "code",
   "execution_count": 3,
   "id": "fed14e69",
   "metadata": {},
   "outputs": [
    {
     "name": "stdout",
     "output_type": "stream",
     "text": [
      "6.66 ms ± 463 µs per loop (mean ± std. dev. of 7 runs, 100 loops each)\n"
     ]
    }
   ],
   "source": [
    "def latitudes(size):\n",
    "    latitudes_list = []\n",
    "    x = 0\n",
    "    while x < (size):\n",
    "        random_lat = random.randint(-90, 90) + random.random()\n",
    "        latitudes_list.append(random_lat)\n",
    "        x += 1\n",
    "    return latitudes\n",
    "# Call the function with 1500.\n",
    "latlist = []\n",
    "%timeit latlist = latitudes(1500)"
   ]
  },
  {
   "cell_type": "code",
   "execution_count": 5,
   "id": "40bf5b81",
   "metadata": {},
   "outputs": [
    {
     "data": {
      "text/plain": [
       "<function __main__.latitudes(size)>"
      ]
     },
     "execution_count": 5,
     "metadata": {},
     "output_type": "execute_result"
    }
   ],
   "source": [
    "latitudes\n"
   ]
  }
 ],
 "metadata": {
  "kernelspec": {
   "display_name": "PythonData",
   "language": "python",
   "name": "pythondata"
  },
  "language_info": {
   "codemirror_mode": {
    "name": "ipython",
    "version": 3
   },
   "file_extension": ".py",
   "mimetype": "text/x-python",
   "name": "python",
   "nbconvert_exporter": "python",
   "pygments_lexer": "ipython3",
   "version": "3.7.10"
  }
 },
 "nbformat": 4,
 "nbformat_minor": 5
}
