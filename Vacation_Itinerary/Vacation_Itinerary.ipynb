{
 "cells": [
  {
   "cell_type": "markdown",
   "metadata": {},
   "source": [
    "## Deliverable 3. Create a Travel Itinerary Map."
   ]
  },
  {
   "cell_type": "code",
   "execution_count": 2,
   "metadata": {},
   "outputs": [],
   "source": [
    "# Dependencies and Setup\n",
    "import pandas as pd\n",
    "import requests\n",
    "import gmaps\n",
    "\n",
    "# Import API key\n",
    "from config import g_key\n",
    "\n",
    "# Configure gmaps\n",
    "gmaps.configure(api_key=g_key)"
   ]
  },
  {
   "cell_type": "code",
   "execution_count": 3,
   "metadata": {},
   "outputs": [
    {
     "data": {
      "text/html": [
       "<div>\n",
       "<style scoped>\n",
       "    .dataframe tbody tr th:only-of-type {\n",
       "        vertical-align: middle;\n",
       "    }\n",
       "\n",
       "    .dataframe tbody tr th {\n",
       "        vertical-align: top;\n",
       "    }\n",
       "\n",
       "    .dataframe thead th {\n",
       "        text-align: right;\n",
       "    }\n",
       "</style>\n",
       "<table border=\"1\" class=\"dataframe\">\n",
       "  <thead>\n",
       "    <tr style=\"text-align: right;\">\n",
       "      <th></th>\n",
       "      <th>City_ID</th>\n",
       "      <th>City</th>\n",
       "      <th>Country</th>\n",
       "      <th>Max Temp</th>\n",
       "      <th>Current Description</th>\n",
       "      <th>Lat</th>\n",
       "      <th>Lng</th>\n",
       "      <th>Hotel Name</th>\n",
       "    </tr>\n",
       "  </thead>\n",
       "  <tbody>\n",
       "    <tr>\n",
       "      <th>0</th>\n",
       "      <td>1</td>\n",
       "      <td>Houma</td>\n",
       "      <td>US</td>\n",
       "      <td>84.97</td>\n",
       "      <td>few clouds</td>\n",
       "      <td>29.5958</td>\n",
       "      <td>-90.7195</td>\n",
       "      <td>Courtyard by Marriott Houma</td>\n",
       "    </tr>\n",
       "    <tr>\n",
       "      <th>1</th>\n",
       "      <td>3</td>\n",
       "      <td>Poplar Bluff</td>\n",
       "      <td>US</td>\n",
       "      <td>76.78</td>\n",
       "      <td>clear sky</td>\n",
       "      <td>36.7570</td>\n",
       "      <td>-90.3929</td>\n",
       "      <td>Holiday Inn Poplar Bluff</td>\n",
       "    </tr>\n",
       "    <tr>\n",
       "      <th>2</th>\n",
       "      <td>6</td>\n",
       "      <td>Fortuna</td>\n",
       "      <td>US</td>\n",
       "      <td>81.19</td>\n",
       "      <td>clear sky</td>\n",
       "      <td>40.5982</td>\n",
       "      <td>-124.1573</td>\n",
       "      <td>Super 8 by Wyndham Fortuna</td>\n",
       "    </tr>\n",
       "    <tr>\n",
       "      <th>3</th>\n",
       "      <td>10</td>\n",
       "      <td>Opelousas</td>\n",
       "      <td>US</td>\n",
       "      <td>80.49</td>\n",
       "      <td>clear sky</td>\n",
       "      <td>30.5335</td>\n",
       "      <td>-92.0815</td>\n",
       "      <td>Holiday Inn &amp; Suites Opelousas, an IHG Hotel</td>\n",
       "    </tr>\n",
       "    <tr>\n",
       "      <th>4</th>\n",
       "      <td>11</td>\n",
       "      <td>Hilo</td>\n",
       "      <td>US</td>\n",
       "      <td>76.80</td>\n",
       "      <td>light rain</td>\n",
       "      <td>19.7297</td>\n",
       "      <td>-155.0900</td>\n",
       "      <td>Hilo Hawaiian Hotel</td>\n",
       "    </tr>\n",
       "  </tbody>\n",
       "</table>\n",
       "</div>"
      ],
      "text/plain": [
       "   City_ID          City Country  Max Temp Current Description      Lat  \\\n",
       "0        1         Houma      US     84.97          few clouds  29.5958   \n",
       "1        3  Poplar Bluff      US     76.78           clear sky  36.7570   \n",
       "2        6       Fortuna      US     81.19           clear sky  40.5982   \n",
       "3       10     Opelousas      US     80.49           clear sky  30.5335   \n",
       "4       11          Hilo      US     76.80          light rain  19.7297   \n",
       "\n",
       "        Lng                                    Hotel Name  \n",
       "0  -90.7195                   Courtyard by Marriott Houma  \n",
       "1  -90.3929                      Holiday Inn Poplar Bluff  \n",
       "2 -124.1573                    Super 8 by Wyndham Fortuna  \n",
       "3  -92.0815  Holiday Inn & Suites Opelousas, an IHG Hotel  \n",
       "4 -155.0900                           Hilo Hawaiian Hotel  "
      ]
     },
     "execution_count": 3,
     "metadata": {},
     "output_type": "execute_result"
    }
   ],
   "source": [
    "# 1. Read the WeatherPy_vacation.csv into a DataFrame.\n",
    "vacation_df = pd.read_csv(\"../Vacation_Search/WeatherPy_vacation.csv\")\n",
    "vacation_df.head()"
   ]
  },
  {
   "cell_type": "code",
   "execution_count": 13,
   "metadata": {},
   "outputs": [],
   "source": [
    "# 2. Using the template add the city name, the country code, the weather description and maximum temperature for the city.\n",
    "# so they don't want us to include the hotel name in the hotel_info list? I'm not buying it. I am including it anyway.\n",
    "# also clean_hotel_df does not exist yet in this notebook, so I would have to grab that from WeatherPy_vacation.csv\n",
    "\n",
    "clean_hotel_df = vacation_df.dropna()\n",
    "\n",
    "info_box_template = \"\"\"\n",
    "<dl>\n",
    "<dt>Hotel Name</dt><dd>{Hotel Name}</dd>\n",
    "<dt>City</dt><dd>{City}</dd>\n",
    "<dt>Country</dt><dd>{Country}</dd>\n",
    "<dt>Weather Description</dt><dd>{Current Description} and {Max Temp} °F</dd>\n",
    "</dl>\n",
    "\"\"\"\n",
    "\n",
    "# 3a. Get the data from each row and add it to the formatting template and store the data in a list.\n",
    "hotel_info = [info_box_template.format(**row) for index, row in clean_hotel_df.iterrows()]\n",
    "\n",
    "# 3b. Get the latitude and longitude from each row and store in a new DataFrame.\n",
    "locations = clean_hotel_df[[\"Lat\", \"Lng\"]]\n"
   ]
  },
  {
   "cell_type": "code",
   "execution_count": 15,
   "metadata": {},
   "outputs": [
    {
     "data": {
      "application/vnd.jupyter.widget-view+json": {
       "model_id": "e13904e555b94960ab246d4043687c37",
       "version_major": 2,
       "version_minor": 0
      },
      "text/plain": [
       "Figure(layout=FigureLayout(height='420px'))"
      ]
     },
     "metadata": {},
     "output_type": "display_data"
    }
   ],
   "source": [
    "# 4a. Add a marker layer for each city to the map.\n",
    "\n",
    "fig = gmaps.figure(center=(40.0, -91.0), zoom_level=5)\n",
    "marker_layer = gmaps.marker_layer(locations, info_box_content=hotel_info)\n",
    "\n",
    "fig.add_layer(marker_layer)\n",
    "\n",
    "# 4b. Display the figure\n",
    "\n",
    "fig\n"
   ]
  },
  {
   "cell_type": "code",
   "execution_count": 39,
   "metadata": {},
   "outputs": [
    {
     "data": {
      "text/html": [
       "<div>\n",
       "<style scoped>\n",
       "    .dataframe tbody tr th:only-of-type {\n",
       "        vertical-align: middle;\n",
       "    }\n",
       "\n",
       "    .dataframe tbody tr th {\n",
       "        vertical-align: top;\n",
       "    }\n",
       "\n",
       "    .dataframe thead th {\n",
       "        text-align: right;\n",
       "    }\n",
       "</style>\n",
       "<table border=\"1\" class=\"dataframe\">\n",
       "  <thead>\n",
       "    <tr style=\"text-align: right;\">\n",
       "      <th></th>\n",
       "      <th>City_ID</th>\n",
       "      <th>City</th>\n",
       "      <th>Country</th>\n",
       "      <th>Max Temp</th>\n",
       "      <th>Current Description</th>\n",
       "      <th>Lat</th>\n",
       "      <th>Lng</th>\n",
       "      <th>Hotel Name</th>\n",
       "    </tr>\n",
       "  </thead>\n",
       "  <tbody>\n",
       "    <tr>\n",
       "      <th>34</th>\n",
       "      <td>113</td>\n",
       "      <td>Douglas</td>\n",
       "      <td>US</td>\n",
       "      <td>84.74</td>\n",
       "      <td>clear sky</td>\n",
       "      <td>41.3</td>\n",
       "      <td>-96.167</td>\n",
       "      <td>Hilton Garden Inn Omaha West</td>\n",
       "    </tr>\n",
       "  </tbody>\n",
       "</table>\n",
       "</div>"
      ],
      "text/plain": [
       "    City_ID     City Country  Max Temp Current Description   Lat     Lng  \\\n",
       "34      113  Douglas      US     84.74           clear sky  41.3 -96.167   \n",
       "\n",
       "                      Hotel Name  \n",
       "34  Hilton Garden Inn Omaha West  "
      ]
     },
     "execution_count": 39,
     "metadata": {},
     "output_type": "execute_result"
    }
   ],
   "source": [
    "# From the map above pick 4 cities and create a vacation itinerary route to travel between the four cities. \n",
    "# Englewood Colorado to Chicago with stops in Lincoln, Omaha, and Kansas City by car\n",
    "\n",
    "# 5. Create DataFrames for each city by filtering the 'vacation_df' using the loc method. \n",
    "# Hint: The starting and ending city should be the same city.\n",
    "\n",
    "vacation_start = vacation_df.loc[vacation_df[\"City\"] == \"Englewood\"]\n",
    "vacation_end = vacation_df.loc[vacation_df[\"City\"] == \"Englewood\"]\n",
    "#\n",
    "vacation_stop1 = vacation_df.loc[vacation_df[\"City\"] == \"Lincoln\"]\n",
    "# Omaha NE is actually \"Douglas\" (county?)\n",
    "vacation_stop2 = vacation_df.loc[vacation_df[\"City\"] == \"Douglas\"]\n",
    "# Grandview is actually Kansas City Missouri\n",
    "vacation_stop3 = vacation_df.loc[vacation_df[\"City\"] == \"Grandview\"]\n",
    "vacation_stop2"
   ]
  },
  {
   "cell_type": "code",
   "execution_count": 42,
   "metadata": {},
   "outputs": [
    {
     "data": {
      "text/plain": [
       "(39.6478, -104.9878)"
      ]
     },
     "execution_count": 42,
     "metadata": {},
     "output_type": "execute_result"
    }
   ],
   "source": [
    "# 6. Get the latitude-longitude pairs as tuples from each city DataFrame using the to_numpy function and list indexing.\n",
    "\n",
    "start = (vacation_start.to_numpy()[0][5], vacation_start.to_numpy()[0][6])\n",
    "end = (vacation_end.to_numpy()[0][5], vacation_end.to_numpy()[0][6])\n",
    "stop1 = (vacation_stop1.to_numpy()[0][5], vacation_stop1.to_numpy()[0][6])\n",
    "stop2 = (vacation_stop2.to_numpy()[0][5], vacation_stop2.to_numpy()[0][6])\n",
    "stop3 =(vacation_stop3.to_numpy()[0][5], vacation_stop3.to_numpy()[0][6])\n",
    "end"
   ]
  },
  {
   "cell_type": "code",
   "execution_count": 43,
   "metadata": {
    "scrolled": true
   },
   "outputs": [
    {
     "data": {
      "application/vnd.jupyter.widget-view+json": {
       "model_id": "e13904e555b94960ab246d4043687c37",
       "version_major": 2,
       "version_minor": 0
      },
      "text/plain": [
       "Figure(layout=FigureLayout(height='420px'))"
      ]
     },
     "metadata": {},
     "output_type": "display_data"
    }
   ],
   "source": [
    "# 7. Create a direction layer map using the start and end latitude-longitude pairs,\n",
    "# and stop1, stop2, and stop3 as the waypoints. The travel_mode should be \"DRIVING\", \"BICYCLING\", or \"WALKING\".\n",
    "\n",
    "start = (39.6478, -104.9878)\n",
    "end = (39.6478, -104.9878)\n",
    "waypoints = [stop1, stop2, stop3]\n",
    "directions = gmaps.directions_layer(start, end, waypoints=waypoints)\n",
    "# \n",
    "fig.add_layer(directions)\n",
    "\n",
    "# fig.add_layer(heat_layer)\n",
    "\n",
    "# Call the figure to plot the data.\n",
    "# \n",
    "fig\n",
    "\n",
    "\n"
   ]
  },
  {
   "cell_type": "code",
   "execution_count": 46,
   "metadata": {},
   "outputs": [
    {
     "data": {
      "text/html": [
       "<div>\n",
       "<style scoped>\n",
       "    .dataframe tbody tr th:only-of-type {\n",
       "        vertical-align: middle;\n",
       "    }\n",
       "\n",
       "    .dataframe tbody tr th {\n",
       "        vertical-align: top;\n",
       "    }\n",
       "\n",
       "    .dataframe thead th {\n",
       "        text-align: right;\n",
       "    }\n",
       "</style>\n",
       "<table border=\"1\" class=\"dataframe\">\n",
       "  <thead>\n",
       "    <tr style=\"text-align: right;\">\n",
       "      <th></th>\n",
       "      <th>City_ID</th>\n",
       "      <th>City</th>\n",
       "      <th>Country</th>\n",
       "      <th>Max Temp</th>\n",
       "      <th>Current Description</th>\n",
       "      <th>Lat</th>\n",
       "      <th>Lng</th>\n",
       "      <th>Hotel Name</th>\n",
       "    </tr>\n",
       "  </thead>\n",
       "  <tbody>\n",
       "    <tr>\n",
       "      <th>0</th>\n",
       "      <td>133</td>\n",
       "      <td>Englewood</td>\n",
       "      <td>US</td>\n",
       "      <td>82.24</td>\n",
       "      <td>scattered clouds</td>\n",
       "      <td>39.6478</td>\n",
       "      <td>-104.9878</td>\n",
       "      <td>Holiday Motel</td>\n",
       "    </tr>\n",
       "    <tr>\n",
       "      <th>1</th>\n",
       "      <td>34</td>\n",
       "      <td>Lincoln</td>\n",
       "      <td>US</td>\n",
       "      <td>85.28</td>\n",
       "      <td>clear sky</td>\n",
       "      <td>40.8000</td>\n",
       "      <td>-96.6670</td>\n",
       "      <td>Courtyard by Marriott Lincoln Downtown/Haymarket</td>\n",
       "    </tr>\n",
       "    <tr>\n",
       "      <th>2</th>\n",
       "      <td>113</td>\n",
       "      <td>Douglas</td>\n",
       "      <td>US</td>\n",
       "      <td>84.74</td>\n",
       "      <td>clear sky</td>\n",
       "      <td>41.3000</td>\n",
       "      <td>-96.1670</td>\n",
       "      <td>Hilton Garden Inn Omaha West</td>\n",
       "    </tr>\n",
       "    <tr>\n",
       "      <th>3</th>\n",
       "      <td>171</td>\n",
       "      <td>Grandview</td>\n",
       "      <td>US</td>\n",
       "      <td>83.07</td>\n",
       "      <td>clear sky</td>\n",
       "      <td>38.8858</td>\n",
       "      <td>-94.5330</td>\n",
       "      <td>Holiday Inn Express &amp; Suites Kansas City-Grand...</td>\n",
       "    </tr>\n",
       "  </tbody>\n",
       "</table>\n",
       "</div>"
      ],
      "text/plain": [
       "   City_ID       City Country  Max Temp Current Description      Lat  \\\n",
       "0      133  Englewood      US     82.24    scattered clouds  39.6478   \n",
       "1       34    Lincoln      US     85.28           clear sky  40.8000   \n",
       "2      113    Douglas      US     84.74           clear sky  41.3000   \n",
       "3      171  Grandview      US     83.07           clear sky  38.8858   \n",
       "\n",
       "        Lng                                         Hotel Name  \n",
       "0 -104.9878                                      Holiday Motel  \n",
       "1  -96.6670   Courtyard by Marriott Lincoln Downtown/Haymarket  \n",
       "2  -96.1670                       Hilton Garden Inn Omaha West  \n",
       "3  -94.5330  Holiday Inn Express & Suites Kansas City-Grand...  "
      ]
     },
     "execution_count": 46,
     "metadata": {},
     "output_type": "execute_result"
    }
   ],
   "source": [
    "# 8. To create a marker layer map between the four cities.\n",
    "#  Combine the four city DataFrames into one DataFrame using the concat() function.\n",
    "itinerary_df = pd.concat([vacation_end, vacation_stop1, vacation_stop2, vacation_stop3],ignore_index=True)\n",
    "itinerary_df"
   ]
  },
  {
   "cell_type": "code",
   "execution_count": 50,
   "metadata": {},
   "outputs": [
    {
     "data": {
      "text/html": [
       "<div>\n",
       "<style scoped>\n",
       "    .dataframe tbody tr th:only-of-type {\n",
       "        vertical-align: middle;\n",
       "    }\n",
       "\n",
       "    .dataframe tbody tr th {\n",
       "        vertical-align: top;\n",
       "    }\n",
       "\n",
       "    .dataframe thead th {\n",
       "        text-align: right;\n",
       "    }\n",
       "</style>\n",
       "<table border=\"1\" class=\"dataframe\">\n",
       "  <thead>\n",
       "    <tr style=\"text-align: right;\">\n",
       "      <th></th>\n",
       "      <th>Lat</th>\n",
       "      <th>Lng</th>\n",
       "    </tr>\n",
       "  </thead>\n",
       "  <tbody>\n",
       "    <tr>\n",
       "      <th>0</th>\n",
       "      <td>39.6478</td>\n",
       "      <td>-104.9878</td>\n",
       "    </tr>\n",
       "    <tr>\n",
       "      <th>1</th>\n",
       "      <td>40.8000</td>\n",
       "      <td>-96.6670</td>\n",
       "    </tr>\n",
       "    <tr>\n",
       "      <th>2</th>\n",
       "      <td>41.3000</td>\n",
       "      <td>-96.1670</td>\n",
       "    </tr>\n",
       "    <tr>\n",
       "      <th>3</th>\n",
       "      <td>38.8858</td>\n",
       "      <td>-94.5330</td>\n",
       "    </tr>\n",
       "  </tbody>\n",
       "</table>\n",
       "</div>"
      ],
      "text/plain": [
       "       Lat       Lng\n",
       "0  39.6478 -104.9878\n",
       "1  40.8000  -96.6670\n",
       "2  41.3000  -96.1670\n",
       "3  38.8858  -94.5330"
      ]
     },
     "execution_count": 50,
     "metadata": {},
     "output_type": "execute_result"
    }
   ],
   "source": [
    "# 9 Using the template add city name, the country code, the weather description and maximum temperature for the city. \n",
    "\n",
    "info_box_template = \"\"\"\n",
    "<dl>\n",
    "<dt>Hotel Name</dt><dd>{Hotel Name}</dd>\n",
    "<dt>City</dt><dd>{City}</dd>\n",
    "<dt>Country</dt><dd>{Country}</dd>\n",
    "<dt>Weather Description</dt><dd>{Current Description} and {Max Temp} °F</dd>\n",
    "</dl>\n",
    "\"\"\"\n",
    "\n",
    "# 10a Get the data from each row and add it to the formatting template and store the data in a list.\n",
    "hotel_info = [info_box_template.format(**row) for index, row in itinerary_df.iterrows()]\n",
    "\n",
    "# 10b. Get the latitude and longitude from each row and store in a new DataFrame.\n",
    "locations = itinerary_df[[\"Lat\", \"Lng\"]]\n",
    "\n",
    "# I guess we have to do this again because now we are only working with the four cities instead of all cities\n",
    "locations"
   ]
  },
  {
   "cell_type": "code",
   "execution_count": 56,
   "metadata": {},
   "outputs": [],
   "source": [
    "# 11a. Add a marker layer for each city to the map.\n",
    "\n",
    "fig = gmaps.figure(center=(40.0, -91.0), zoom_level=5)\n",
    "marker_layer = gmaps.marker_layer(locations, info_box_content=hotel_info)\n",
    "\n",
    "# fig.add_layer(directions)\n",
    "\n",
    "# this time show the markers for the four cities only to comply with deliverable 3 rubric\n",
    "fig.add_layer(marker_layer)\n"
   ]
  },
  {
   "cell_type": "code",
   "execution_count": 57,
   "metadata": {
    "scrolled": true
   },
   "outputs": [
    {
     "data": {
      "application/vnd.jupyter.widget-view+json": {
       "model_id": "5854342a95dd44179dcea41885a76fb8",
       "version_major": 2,
       "version_minor": 0
      },
      "text/plain": [
       "Figure(layout=FigureLayout(height='420px'))"
      ]
     },
     "metadata": {},
     "output_type": "display_data"
    }
   ],
   "source": [
    "# 11b. Display the figure in next cell\n",
    "fig"
   ]
  }
 ],
 "metadata": {
  "kernelspec": {
   "display_name": "PythonData",
   "language": "python",
   "name": "pythondata"
  },
  "language_info": {
   "codemirror_mode": {
    "name": "ipython",
    "version": 3
   },
   "file_extension": ".py",
   "mimetype": "text/x-python",
   "name": "python",
   "nbconvert_exporter": "python",
   "pygments_lexer": "ipython3",
   "version": "3.7.10"
  },
  "latex_envs": {
   "LaTeX_envs_menu_present": true,
   "autoclose": false,
   "autocomplete": true,
   "bibliofile": "biblio.bib",
   "cite_by": "apalike",
   "current_citInitial": 1,
   "eqLabelWithNumbers": true,
   "eqNumInitial": 1,
   "hotkeys": {
    "equation": "Ctrl-E",
    "itemize": "Ctrl-I"
   },
   "labels_anchors": false,
   "latex_user_defs": false,
   "report_style_numbering": false,
   "user_envs_cfg": false
  }
 },
 "nbformat": 4,
 "nbformat_minor": 2
}
