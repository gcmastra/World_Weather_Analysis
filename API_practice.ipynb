{
 "cells": [
  {
   "cell_type": "code",
   "execution_count": 11,
   "id": "d0ec2c0b",
   "metadata": {},
   "outputs": [],
   "source": [
    "import pandas as pd\n",
    "import matplotlib.pyplot as plt\n",
    "import numpy as np\n",
    "import random\n",
    "\n",
    "# very important to include this module - this is what was causing error\n",
    "import requests\n",
    "\n",
    "# Use the citipy module to determine city based on latitude and longitude.\n",
    "from citipy import citipy\n",
    "\n",
    "# Import the datetime module from the datetime library.\n",
    "from datetime import datetime"
   ]
  },
  {
   "cell_type": "code",
   "execution_count": 2,
   "id": "fc2af3d6",
   "metadata": {},
   "outputs": [],
   "source": [
    "# Import the API key.\n",
    "from config import weather_api_key"
   ]
  },
  {
   "cell_type": "code",
   "execution_count": 3,
   "id": "31fd45a3",
   "metadata": {},
   "outputs": [
    {
     "data": {
      "text/plain": [
       "<zip at 0x14836277608>"
      ]
     },
     "execution_count": 3,
     "metadata": {},
     "output_type": "execute_result"
    }
   ],
   "source": [
    "# Create a set of random latitude and longitude combinations.\n",
    "# I think -90 to 90 is too likely to pick a non populated area\n",
    "# Even using -60 to 70 you are going to get some extremely remote locations, most over water \n",
    "maxsize = 20\n",
    "lats = np.random.uniform(low=-60.000, high=70.000, size=maxsize)\n",
    "lngs = np.random.uniform(low=-180.000, high=180.000, size=maxsize)\n",
    "lat_lngs = zip(lats, lngs)\n",
    "lat_lngs"
   ]
  },
  {
   "cell_type": "code",
   "execution_count": 4,
   "id": "8bd77d72",
   "metadata": {},
   "outputs": [],
   "source": [
    "# Create a practice set of random latitude and longitude combinations.\n",
    "x = [25.12903645, 25.92017388, 26.62509167, -59.98969384, 37.30571269]\n",
    "y = [-67.59741259, 11.09532135, 74.84233102, -76.89176677, -61.13376282]\n",
    "coordinates = zip(x, y)"
   ]
  },
  {
   "cell_type": "code",
   "execution_count": 5,
   "id": "c16a325e",
   "metadata": {},
   "outputs": [
    {
     "name": "stdout",
     "output_type": "stream",
     "text": [
      "25.12903645 -67.59741259\n",
      "25.92017388 11.09532135\n",
      "26.62509167 74.84233102\n",
      "-59.98969384 -76.89176677\n",
      "37.30571269 -61.13376282\n"
     ]
    }
   ],
   "source": [
    "# Use the tuple() function to display the latitude and longitude combinations.\n",
    "for coordinate in coordinates:\n",
    "    print(coordinate[0], coordinate[1])"
   ]
  },
  {
   "cell_type": "code",
   "execution_count": 6,
   "id": "e8015f2c",
   "metadata": {},
   "outputs": [
    {
     "data": {
      "text/plain": [
       "[(69.4172736662021, 154.1755774254932),\n",
       " (52.5689296777454, -74.74359590041834),\n",
       " (-37.493173638762435, -167.5134269310307),\n",
       " (21.337564212024617, -142.93489367030514),\n",
       " (24.83997494427959, -161.6505110234334),\n",
       " (43.76616975071144, 121.51598098671252),\n",
       " (69.0933171714818, -61.498202380233266),\n",
       " (45.89981391786185, -166.2695717161531),\n",
       " (-57.004967188370586, -4.5865808221043665),\n",
       " (-27.66600038556679, 100.10641088026063),\n",
       " (-40.64597929591348, -44.35882182269074),\n",
       " (52.99856658754237, 78.75928478543307),\n",
       " (-2.988365470344249, -161.40134410898054),\n",
       " (48.392545574378474, -116.33354988799726),\n",
       " (-10.479730217649085, 162.707163419589),\n",
       " (6.986495644311219, 149.64636848419235),\n",
       " (35.50502058980882, -79.29714627999202),\n",
       " (42.562544350109135, -67.38152521365531),\n",
       " (5.020889769350234, -112.13914277410322),\n",
       " (-8.358410959681883, 38.015291039834835)]"
      ]
     },
     "execution_count": 6,
     "metadata": {},
     "output_type": "execute_result"
    }
   ],
   "source": [
    "# Add the latitudes and longitudes to a list.\n",
    "coordinates = list(lat_lngs)\n",
    "coordinates"
   ]
  },
  {
   "cell_type": "code",
   "execution_count": 7,
   "id": "8affc791",
   "metadata": {},
   "outputs": [
    {
     "name": "stdout",
     "output_type": "stream",
     "text": [
      "srednekolymsk ru\n",
      "chapais ca\n",
      "vaini to\n",
      "hilo us\n",
      "kapaa us\n",
      "tongliao cn\n",
      "pangnirtung ca\n",
      "bethel us\n",
      "cape town za\n",
      "carnarvon au\n",
      "chuy uy\n",
      "slavgorod ru\n",
      "samusu ws\n",
      "sandpoint us\n",
      "kirakira sb\n",
      "lorengau pg\n",
      "sanford us\n",
      "yarmouth ca\n",
      "san patricio mx\n",
      "utete tz\n"
     ]
    }
   ],
   "source": [
    "# These coords are in WV\n",
    "coordinate_x = 38.809 \n",
    "coordinate_y = -77.882\n",
    "\n",
    "#someone else already invented the wheel for cities so lets use it \n",
    "for coordinate in coordinates:\n",
    "    print(citipy.nearest_city(coordinate[0], coordinate[1]).city_name,\n",
    "          citipy.nearest_city(coordinate[0], coordinate[1]).country_code)\n",
    "    \n",
    "# I have mentioned this before but I will say it again.  the reason so many cities are on the coast of Africa is\n",
    "# because random pins over the ocean tend to be closest to ports on the coast like Capetown"
   ]
  },
  {
   "cell_type": "code",
   "execution_count": 8,
   "id": "9dbfb132",
   "metadata": {},
   "outputs": [],
   "source": [
    "# Starting URL for Weather Map API Call.\n",
    "url = \"http://api.openweathermap.org/data/2.5/weather?units=Imperial&APPID=\" + weather_api_key\n",
    "# print(url) - do not ever expose the URL when saving the file or the key will get stolen - it really happened"
   ]
  },
  {
   "cell_type": "code",
   "execution_count": 9,
   "id": "1f11b8bf",
   "metadata": {},
   "outputs": [],
   "source": [
    "# Create an endpoint URL for a city.\n",
    "# make sure to reset the kernel and clear output before uploading this notebook or comment out the print statements\n",
    "city_url = url + \"&q=\" + \"chiquilistlan\"\n",
    "# print(city_url)\n",
    "# hay+river is in canada northwest terrirtories - lets go there for a vacation \n",
    "# chiquilistlan is in Jalisco MX"
   ]
  },
  {
   "cell_type": "code",
   "execution_count": 12,
   "id": "131a33ce",
   "metadata": {},
   "outputs": [
    {
     "data": {
      "text/plain": [
       "200"
      ]
     },
     "execution_count": 12,
     "metadata": {},
     "output_type": "execute_result"
    }
   ],
   "source": [
    "# Make a 'Get' request for the city weather.\n",
    "city_weather = requests.get(city_url)\n",
    "city_weather.status_code\n",
    "# code 200 is success code"
   ]
  },
  {
   "cell_type": "code",
   "execution_count": 13,
   "id": "70ee1f8d",
   "metadata": {},
   "outputs": [
    {
     "data": {
      "text/plain": [
       "{'coord': {'lon': -103.8167, 'lat': 20.2},\n",
       " 'weather': [{'id': 804,\n",
       "   'main': 'Clouds',\n",
       "   'description': 'overcast clouds',\n",
       "   'icon': '04d'}],\n",
       " 'base': 'stations',\n",
       " 'main': {'temp': 76.12,\n",
       "  'feels_like': 77.2,\n",
       "  'temp_min': 76.12,\n",
       "  'temp_max': 76.12,\n",
       "  'pressure': 1014,\n",
       "  'humidity': 80,\n",
       "  'sea_level': 1014,\n",
       "  'grnd_level': 840},\n",
       " 'visibility': 6136,\n",
       " 'wind': {'speed': 1.43, 'deg': 217, 'gust': 2.62},\n",
       " 'clouds': {'all': 100},\n",
       " 'dt': 1628286973,\n",
       " 'sys': {'type': 2,\n",
       "  'id': 2032170,\n",
       "  'country': 'MX',\n",
       "  'sunrise': 1628253136,\n",
       "  'sunset': 1628299798},\n",
       " 'timezone': -18000,\n",
       " 'id': 4014178,\n",
       " 'name': 'Chiquilistlán',\n",
       " 'cod': 200}"
      ]
     },
     "execution_count": 13,
     "metadata": {},
     "output_type": "execute_result"
    }
   ],
   "source": [
    "city_weather.json()\n",
    "# is this really the current data for a city in Mexico? KEWLIO HUMANA"
   ]
  },
  {
   "cell_type": "code",
   "execution_count": null,
   "id": "a86928b6",
   "metadata": {},
   "outputs": [],
   "source": [
    "# Create an endpoint URL for a city.  \n",
    "# NOTE ==>> the conditional doesn't really work - this is the example pasted in from the lesson\n",
    "# NOTE the code prints City Weather Found no matter what the city name is \n",
    "# CLM I should add this to the README as a glitch in the online course material \n",
    "# It is because JSON output is included even in an error - it tells you the error message\n",
    "\n",
    "city_url = url + \"&q=\" + \"boston\"\n",
    "city_weather = requests.get(city_url)\n",
    "\n",
    "city_data = city_weather.json()\n",
    "country_code = city_data[\"sys\"][\"country\"]\n",
    "\n",
    "\n",
    "# what are the time stamps on the sunrise and sunset? are they unix timestamps? \n",
    "# the course material says it is a database timestamp format - how do I convert to normal time?\n",
    "city_sunrise = city_data[\"sys\"][\"sunrise\"]\n",
    "city_sunrise"
   ]
  },
  {
   "cell_type": "code",
   "execution_count": null,
   "id": "b3b32e49",
   "metadata": {},
   "outputs": [],
   "source": [
    "city_url = url + \"&q=\" + \"vestmannaeyjar\"\n",
    "city_weather = requests.get(city_url)\n",
    "\n",
    "city_data = city_weather.json()\n",
    "country_code = city_data[\"sys\"][\"country\"]\n",
    "city_lat = city_data[\"coord\"][\"lat\"]\n",
    "city_long = city_data[\"coord\"][\"lon\"]\n",
    "\n",
    "# print(city_lat, city_long)\n",
    "\n",
    "lat = city_data[\"coord\"][\"lat\"]\n",
    "lng = city_data[\"coord\"][\"lon\"]\n",
    "max_temp = city_data[\"main\"][\"temp_max\"]\n",
    "humidity = city_data[\"main\"][\"humidity\"]\n",
    "clouds = city_data[\"clouds\"][\"all\"]\n",
    "wind = city_data[\"wind\"][\"speed\"]\n",
    "print(lat, lng, max_temp, humidity, clouds, wind, country_code)\n"
   ]
  },
  {
   "cell_type": "code",
   "execution_count": null,
   "id": "61ba090f",
   "metadata": {},
   "outputs": [],
   "source": [
    "# Import the datetime module from the datetime library.\n",
    "from datetime import datetime\n",
    "\n",
    "# Get the date from the JSON file.\n",
    "date = city_data[\"dt\"]\n",
    "# Convert the UTC date to a date format with year, month, day, hours, minutes, and seconds.\n",
    "\n",
    "datetime.utcfromtimestamp(date).strftime('%Y-%m-%d %H:%M:%S')"
   ]
  },
  {
   "cell_type": "code",
   "execution_count": null,
   "id": "e28da668",
   "metadata": {},
   "outputs": [],
   "source": [
    "# Import the time module.  Ctrl-U is the Undo key\n",
    "import time\n",
    "# Get today's date in seconds.\n",
    "today = time.strftime(\"%x\")\n",
    "today"
   ]
  }
 ],
 "metadata": {
  "kernelspec": {
   "display_name": "PythonData",
   "language": "python",
   "name": "pythondata"
  },
  "language_info": {
   "codemirror_mode": {
    "name": "ipython",
    "version": 3
   },
   "file_extension": ".py",
   "mimetype": "text/x-python",
   "name": "python",
   "nbconvert_exporter": "python",
   "pygments_lexer": "ipython3",
   "version": "3.7.10"
  }
 },
 "nbformat": 4,
 "nbformat_minor": 5
}
