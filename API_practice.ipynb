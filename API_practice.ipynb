{
 "cells": [
  {
   "cell_type": "code",
   "execution_count": null,
   "id": "d0ec2c0b",
   "metadata": {},
   "outputs": [],
   "source": [
    "import pandas as pd\n",
    "import matplotlib.pyplot as plt\n",
    "import numpy as np\n",
    "import random\n",
    "\n",
    "# Use the citipy module to determine city based on latitude and longitude.\n",
    "from citipy import citipy\n",
    "\n",
    "# Import the datetime module from the datetime library.\n",
    "from datetime import datetime"
   ]
  },
  {
   "cell_type": "code",
   "execution_count": null,
   "id": "769598d2",
   "metadata": {},
   "outputs": [],
   "source": [
    "import requests\n",
    "requests.__version__"
   ]
  },
  {
   "cell_type": "code",
   "execution_count": null,
   "id": "fc2af3d6",
   "metadata": {},
   "outputs": [],
   "source": [
    "# Import the API key.\n",
    "from config import weather_api_key"
   ]
  },
  {
   "cell_type": "code",
   "execution_count": null,
   "id": "31fd45a3",
   "metadata": {},
   "outputs": [],
   "source": [
    "# Create a set of random latitude and longitude combinations.\n",
    "# I think -90 to 90 is too likely to pick a non populated area\n",
    "# Even using -60 to 70 you are going to get some extremely remote locations, most over water \n",
    "maxsize = 20\n",
    "lats = np.random.uniform(low=-60.000, high=70.000, size=maxsize)\n",
    "lngs = np.random.uniform(low=-180.000, high=180.000, size=maxsize)\n",
    "lat_lngs = zip(lats, lngs)\n",
    "lat_lngs"
   ]
  },
  {
   "cell_type": "code",
   "execution_count": null,
   "id": "8bd77d72",
   "metadata": {},
   "outputs": [],
   "source": [
    "# Create a practice set of random latitude and longitude combinations.\n",
    "x = [25.12903645, 25.92017388, 26.62509167, -59.98969384, 37.30571269]\n",
    "y = [-67.59741259, 11.09532135, 74.84233102, -76.89176677, -61.13376282]\n",
    "coordinates = zip(x, y)"
   ]
  },
  {
   "cell_type": "code",
   "execution_count": null,
   "id": "c16a325e",
   "metadata": {},
   "outputs": [],
   "source": [
    "# Use the tuple() function to display the latitude and longitude combinations.\n",
    "for coordinate in coordinates:\n",
    "    print(coordinate[0], coordinate[1])"
   ]
  },
  {
   "cell_type": "code",
   "execution_count": null,
   "id": "e8015f2c",
   "metadata": {},
   "outputs": [],
   "source": [
    "# Add the latitudes and longitudes to a list.\n",
    "coordinates = list(lat_lngs)\n",
    "coordinates"
   ]
  },
  {
   "cell_type": "code",
   "execution_count": null,
   "id": "8affc791",
   "metadata": {},
   "outputs": [],
   "source": [
    "# These coords are in WV\n",
    "coordinate_x = 38.809 \n",
    "coordinate_y = -77.882\n",
    "\n",
    "#someone else already invented the wheel for cities so lets use it \n",
    "for coordinate in coordinates:\n",
    "    print(citipy.nearest_city(coordinate[0], coordinate[1]).city_name,\n",
    "          citipy.nearest_city(coordinate[0], coordinate[1]).country_code)\n",
    "    \n"
   ]
  },
  {
   "cell_type": "code",
   "execution_count": null,
   "id": "9dbfb132",
   "metadata": {},
   "outputs": [],
   "source": [
    "# Starting URL for Weather Map API Call.\n",
    "url = \"http://api.openweathermap.org/data/2.5/weather?units=Imperial&APPID=\" + weather_api_key\n",
    "# print(url)"
   ]
  },
  {
   "cell_type": "code",
   "execution_count": null,
   "id": "1f11b8bf",
   "metadata": {},
   "outputs": [],
   "source": [
    "# Create an endpoint URL for a city.\n",
    "# make sure to reset the kernel and clear output before uploading this notebook or comment out the print statements\n",
    "city_url = url + \"&q=\" + \"chiquilistlan\"\n",
    "# print(city_url)\n",
    "# hay+river is in canada northwest terrirtories - lets go there for a vacation \n",
    "# chiquilistlan is in Jalisco MX"
   ]
  },
  {
   "cell_type": "code",
   "execution_count": null,
   "id": "131a33ce",
   "metadata": {},
   "outputs": [],
   "source": [
    "# Make a 'Get' request for the city weather.\n",
    "city_weather = requests.get(city_url)\n",
    "city_weather.status_code\n",
    "# code 200 is success code"
   ]
  },
  {
   "cell_type": "code",
   "execution_count": null,
   "id": "70ee1f8d",
   "metadata": {},
   "outputs": [],
   "source": [
    "city_weather.json()"
   ]
  },
  {
   "cell_type": "code",
   "execution_count": null,
   "id": "a86928b6",
   "metadata": {},
   "outputs": [],
   "source": [
    "# Create an endpoint URL for a city.  \n",
    "# NOTE ==>> the conditional doesn't really work - this is the example pasted in from the lesson\n",
    "# NOTE the code prints City Weather Found no matter what the city name is \n",
    "# CLM I should add this to the README as a glitch in the online course material \n",
    "# It is because JSON output is included even in an error - it tells you the error message\n",
    "\n",
    "city_url = url + \"&q=\" + \"boston\"\n",
    "city_weather = requests.get(city_url)\n",
    "\n",
    "city_data = city_weather.json()\n",
    "country_code = city_data[\"sys\"][\"country\"]\n",
    "\n",
    "\n",
    "# what are the time stamps on the sunrise and sunset? are they unix timestamps? \n",
    "# the course material says it is a database timestamp format - how do I convert to normal time?\n",
    "city_sunrise = city_data[\"sys\"][\"sunrise\"]\n",
    "city_sunrise"
   ]
  },
  {
   "cell_type": "code",
   "execution_count": null,
   "id": "b3b32e49",
   "metadata": {},
   "outputs": [],
   "source": [
    "city_url = url + \"&q=\" + \"vestmannaeyjar\"\n",
    "city_weather = requests.get(city_url)\n",
    "\n",
    "city_data = city_weather.json()\n",
    "country_code = city_data[\"sys\"][\"country\"]\n",
    "city_lat = city_data[\"coord\"][\"lat\"]\n",
    "city_long = city_data[\"coord\"][\"lon\"]\n",
    "\n",
    "# print(city_lat, city_long)\n",
    "\n",
    "lat = city_data[\"coord\"][\"lat\"]\n",
    "lng = city_data[\"coord\"][\"lon\"]\n",
    "max_temp = city_data[\"main\"][\"temp_max\"]\n",
    "humidity = city_data[\"main\"][\"humidity\"]\n",
    "clouds = city_data[\"clouds\"][\"all\"]\n",
    "wind = city_data[\"wind\"][\"speed\"]\n",
    "print(lat, lng, max_temp, humidity, clouds, wind, country_code)\n"
   ]
  },
  {
   "cell_type": "code",
   "execution_count": null,
   "id": "61ba090f",
   "metadata": {},
   "outputs": [],
   "source": [
    "# Import the datetime module from the datetime library.\n",
    "from datetime import datetime\n",
    "\n",
    "# Get the date from the JSON file.\n",
    "date = city_data[\"dt\"]\n",
    "# Convert the UTC date to a date format with year, month, day, hours, minutes, and seconds.\n",
    "\n",
    "datetime.utcfromtimestamp(date).strftime('%Y-%m-%d %H:%M:%S')"
   ]
  },
  {
   "cell_type": "code",
   "execution_count": 2,
   "id": "e28da668",
   "metadata": {},
   "outputs": [
    {
     "data": {
      "text/plain": [
       "'07/29/21'"
      ]
     },
     "execution_count": 2,
     "metadata": {},
     "output_type": "execute_result"
    }
   ],
   "source": [
    "# Import the time module.  Ctrl-U is the Undo key\n",
    "import time\n",
    "# Get today's date in seconds.\n",
    "today = time.strftime(\"%x\")\n",
    "today"
   ]
  }
 ],
 "metadata": {
  "kernelspec": {
   "display_name": "PythonData",
   "language": "python",
   "name": "pythondata"
  },
  "language_info": {
   "codemirror_mode": {
    "name": "ipython",
    "version": 3
   },
   "file_extension": ".py",
   "mimetype": "text/x-python",
   "name": "python",
   "nbconvert_exporter": "python",
   "pygments_lexer": "ipython3",
   "version": "3.7.10"
  }
 },
 "nbformat": 4,
 "nbformat_minor": 5
}
