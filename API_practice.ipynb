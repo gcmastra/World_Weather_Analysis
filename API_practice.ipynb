{
 "cells": [
  {
   "cell_type": "code",
   "execution_count": 51,
   "id": "d0ec2c0b",
   "metadata": {},
   "outputs": [],
   "source": [
    "import pandas as pd\n",
    "import matplotlib.pyplot as plt\n",
    "import numpy as np\n",
    "import random\n",
    "\n",
    "# Use the citipy module to determine city based on latitude and longitude.\n",
    "from citipy import citipy\n",
    "\n",
    "# Import the datetime module from the datetime library.\n",
    "from datetime import datetime"
   ]
  },
  {
   "cell_type": "code",
   "execution_count": 8,
   "id": "769598d2",
   "metadata": {},
   "outputs": [
    {
     "data": {
      "text/plain": [
       "'2.25.1'"
      ]
     },
     "execution_count": 8,
     "metadata": {},
     "output_type": "execute_result"
    }
   ],
   "source": [
    "import requests\n",
    "requests.__version__\n",
    "\n"
   ]
  },
  {
   "cell_type": "code",
   "execution_count": 9,
   "id": "fc2af3d6",
   "metadata": {},
   "outputs": [],
   "source": [
    "# Import the API key.\n",
    "from config import weather_api_key"
   ]
  },
  {
   "cell_type": "code",
   "execution_count": 3,
   "id": "31fd45a3",
   "metadata": {},
   "outputs": [
    {
     "data": {
      "text/plain": [
       "<zip at 0x1bbf22d9d48>"
      ]
     },
     "execution_count": 3,
     "metadata": {},
     "output_type": "execute_result"
    }
   ],
   "source": [
    "# Create a set of random latitude and longitude combinations.\n",
    "# I think -90 to 90 is too likely to pick a non populated area\n",
    "# Even using -60 to 70 you are going to get some extremely remote locations, most over water \n",
    "maxsize = 20\n",
    "lats = np.random.uniform(low=-60.000, high=70.000, size=maxsize)\n",
    "lngs = np.random.uniform(low=-180.000, high=180.000, size=maxsize)\n",
    "lat_lngs = zip(lats, lngs)\n",
    "lat_lngs"
   ]
  },
  {
   "cell_type": "code",
   "execution_count": 4,
   "id": "8bd77d72",
   "metadata": {},
   "outputs": [],
   "source": [
    "# Create a practice set of random latitude and longitude combinations.\n",
    "x = [25.12903645, 25.92017388, 26.62509167, -59.98969384, 37.30571269]\n",
    "y = [-67.59741259, 11.09532135, 74.84233102, -76.89176677, -61.13376282]\n",
    "coordinates = zip(x, y)"
   ]
  },
  {
   "cell_type": "code",
   "execution_count": 5,
   "id": "c16a325e",
   "metadata": {},
   "outputs": [
    {
     "name": "stdout",
     "output_type": "stream",
     "text": [
      "25.12903645 -67.59741259\n",
      "25.92017388 11.09532135\n",
      "26.62509167 74.84233102\n",
      "-59.98969384 -76.89176677\n",
      "37.30571269 -61.13376282\n"
     ]
    }
   ],
   "source": [
    "# Use the tuple() function to display the latitude and longitude combinations.\n",
    "for coordinate in coordinates:\n",
    "    print(coordinate[0], coordinate[1])"
   ]
  },
  {
   "cell_type": "code",
   "execution_count": 6,
   "id": "e8015f2c",
   "metadata": {},
   "outputs": [
    {
     "data": {
      "text/plain": [
       "[(27.502792970029702, -172.752037126444),\n",
       " (50.16694272883116, 94.29752905961243),\n",
       " (2.3244126036011252, 87.8565313476775),\n",
       " (-15.278299742192438, -55.67961765438258),\n",
       " (-3.7125854419155644, -62.51007292282942),\n",
       " (46.206740316775395, 132.22535342754406),\n",
       " (0.3656920084379607, -69.81372604507551),\n",
       " (50.66914865410649, -61.88000354793965),\n",
       " (60.203010602087346, -17.31166075034909),\n",
       " (27.785966483810128, 51.89272161680225),\n",
       " (-40.84640064468965, -49.04475054181117),\n",
       " (-27.615426457558655, 97.64866872665317),\n",
       " (-26.845031750642413, 51.77863821784618),\n",
       " (25.508927417897738, -169.65752665276773),\n",
       " (-19.230014647462177, -168.43649659768192),\n",
       " (-13.409501747534144, -109.16286637220634),\n",
       " (-13.225620405363507, -4.796816419914052),\n",
       " (-39.308280666015676, 15.520172141250498),\n",
       " (-18.27412056043572, 147.4219116415997),\n",
       " (59.160245102871556, -43.19833045047332)]"
      ]
     },
     "execution_count": 6,
     "metadata": {},
     "output_type": "execute_result"
    }
   ],
   "source": [
    "# Add the latitudes and longitudes to a list.\n",
    "coordinates = list(lat_lngs)\n",
    "coordinates"
   ]
  },
  {
   "cell_type": "code",
   "execution_count": 7,
   "id": "8affc791",
   "metadata": {},
   "outputs": [
    {
     "name": "stdout",
     "output_type": "stream",
     "text": [
      "kapaa us\n",
      "samagaltay ru\n",
      "hambantota lk\n",
      "chapada dos guimaraes br\n",
      "codajas br\n",
      "baoqing cn\n",
      "mitu co\n",
      "havre-saint-pierre ca\n",
      "vestmannaeyjar is\n",
      "khormuj ir\n",
      "rocha uy\n",
      "carnarvon au\n",
      "taolanaro mg\n",
      "kapaa us\n",
      "alofi nu\n",
      "puerto ayora ec\n",
      "jamestown sh\n",
      "cape town za\n",
      "townsville au\n",
      "nanortalik gl\n"
     ]
    }
   ],
   "source": [
    "# These coords are in WV\n",
    "coordinate_x = 38.809 \n",
    "coordinate_y = -77.882\n",
    "\n",
    "#someone else already invented the wheel for cities so lets use it \n",
    "for coordinate in coordinates:\n",
    "    print(citipy.nearest_city(coordinate[0], coordinate[1]).city_name,\n",
    "          citipy.nearest_city(coordinate[0], coordinate[1]).country_code)\n",
    "    \n"
   ]
  },
  {
   "cell_type": "code",
   "execution_count": 12,
   "id": "9dbfb132",
   "metadata": {},
   "outputs": [],
   "source": [
    "# Starting URL for Weather Map API Call.\n",
    "url = \"http://api.openweathermap.org/data/2.5/weather?units=Imperial&APPID=\" + weather_api_key\n",
    "# print(url)"
   ]
  },
  {
   "cell_type": "code",
   "execution_count": 18,
   "id": "1f11b8bf",
   "metadata": {},
   "outputs": [],
   "source": [
    "# Create an endpoint URL for a city.\n",
    "# make sure to reset the kernel and clear output before uploading this notebook or comment out the print statements\n",
    "city_url = url + \"&q=\" + \"Boston\"\n",
    "# print(city_url)\n"
   ]
  },
  {
   "cell_type": "code",
   "execution_count": 24,
   "id": "131a33ce",
   "metadata": {},
   "outputs": [
    {
     "data": {
      "text/plain": [
       "200"
      ]
     },
     "execution_count": 24,
     "metadata": {},
     "output_type": "execute_result"
    }
   ],
   "source": [
    "# Make a 'Get' request for the city weather.\n",
    "city_weather = requests.get(city_url)\n",
    "city_weather.status_code\n",
    "# code 200 is success code"
   ]
  },
  {
   "cell_type": "code",
   "execution_count": 25,
   "id": "70ee1f8d",
   "metadata": {},
   "outputs": [
    {
     "data": {
      "text/plain": [
       "{'coord': {'lon': -71.0598, 'lat': 42.3584},\n",
       " 'weather': [{'id': 801,\n",
       "   'main': 'Clouds',\n",
       "   'description': 'few clouds',\n",
       "   'icon': '02n'}],\n",
       " 'base': 'stations',\n",
       " 'main': {'temp': 73.85,\n",
       "  'feels_like': 74.52,\n",
       "  'temp_min': 68.95,\n",
       "  'temp_max': 77.36,\n",
       "  'pressure': 1010,\n",
       "  'humidity': 76},\n",
       " 'visibility': 10000,\n",
       " 'wind': {'speed': 5.86, 'deg': 261, 'gust': 16.78},\n",
       " 'clouds': {'all': 16},\n",
       " 'dt': 1627349576,\n",
       " 'sys': {'type': 2,\n",
       "  'id': 2001997,\n",
       "  'country': 'US',\n",
       "  'sunrise': 1627291853,\n",
       "  'sunset': 1627344621},\n",
       " 'timezone': -14400,\n",
       " 'id': 4930956,\n",
       " 'name': 'Boston',\n",
       " 'cod': 200}"
      ]
     },
     "execution_count": 25,
     "metadata": {},
     "output_type": "execute_result"
    }
   ],
   "source": [
    "city_weather.json()"
   ]
  },
  {
   "cell_type": "code",
   "execution_count": 45,
   "id": "a86928b6",
   "metadata": {},
   "outputs": [
    {
     "data": {
      "text/plain": [
       "1627291853"
      ]
     },
     "execution_count": 45,
     "metadata": {},
     "output_type": "execute_result"
    }
   ],
   "source": [
    "# Create an endpoint URL for a city.  \n",
    "# NOTE ==>> the conditional doesn't really work - this is the example pasted in from the lesson\n",
    "# NOTE the code prints City Weather Found no matter what the city name is \n",
    "# CLM I should add this to the README as a glitch in the online course material \n",
    "# It is because JSON output is included even in an error - it tells you the error message\n",
    "\n",
    "city_url = url + \"&q=\" + \"boston\"\n",
    "city_weather = requests.get(city_url)\n",
    "\n",
    "city_data = city_weather.json()\n",
    "country_code = city_data[\"sys\"][\"country\"]\n",
    "\n",
    "\n",
    "# what are the time stamps on the sunrise and sunset? are they unix timestamps? \n",
    "# the course material says it is a database timestamp format - how do I convert to normal time?\n",
    "city_sunrise = city_data[\"sys\"][\"sunrise\"]\n",
    "city_sunrise"
   ]
  },
  {
   "cell_type": "code",
   "execution_count": 50,
   "id": "b3b32e49",
   "metadata": {},
   "outputs": [
    {
     "name": "stdout",
     "output_type": "stream",
     "text": [
      "63.4427 -20.2734 50.86 80 100 13.22 IS\n"
     ]
    }
   ],
   "source": [
    "city_url = url + \"&q=\" + \"vestmannaeyjar\"\n",
    "city_weather = requests.get(city_url)\n",
    "\n",
    "city_data = city_weather.json()\n",
    "country_code = city_data[\"sys\"][\"country\"]\n",
    "city_lat = city_data[\"coord\"][\"lat\"]\n",
    "city_long = city_data[\"coord\"][\"lon\"]\n",
    "\n",
    "# print(city_lat, city_long)\n",
    "\n",
    "lat = city_data[\"coord\"][\"lat\"]\n",
    "lng = city_data[\"coord\"][\"lon\"]\n",
    "max_temp = city_data[\"main\"][\"temp_max\"]\n",
    "humidity = city_data[\"main\"][\"humidity\"]\n",
    "clouds = city_data[\"clouds\"][\"all\"]\n",
    "wind = city_data[\"wind\"][\"speed\"]\n",
    "print(lat, lng, max_temp, humidity, clouds, wind, country_code)\n"
   ]
  },
  {
   "cell_type": "code",
   "execution_count": 53,
   "id": "61ba090f",
   "metadata": {},
   "outputs": [
    {
     "data": {
      "text/plain": [
       "'2021-07-27 02:24:01'"
      ]
     },
     "execution_count": 53,
     "metadata": {},
     "output_type": "execute_result"
    }
   ],
   "source": [
    "# Import the datetime module from the datetime library.\n",
    "from datetime import datetime\n",
    "\n",
    "# Get the date from the JSON file.\n",
    "date = city_data[\"dt\"]\n",
    "# Convert the UTC date to a date format with year, month, day, hours, minutes, and seconds.\n",
    "\n",
    "datetime.utcfromtimestamp(date).strftime('%Y-%m-%d %H:%M:%S')"
   ]
  }
 ],
 "metadata": {
  "kernelspec": {
   "display_name": "PythonData",
   "language": "python",
   "name": "pythondata"
  },
  "language_info": {
   "codemirror_mode": {
    "name": "ipython",
    "version": 3
   },
   "file_extension": ".py",
   "mimetype": "text/x-python",
   "name": "python",
   "nbconvert_exporter": "python",
   "pygments_lexer": "ipython3",
   "version": "3.7.10"
  }
 },
 "nbformat": 4,
 "nbformat_minor": 5
}
