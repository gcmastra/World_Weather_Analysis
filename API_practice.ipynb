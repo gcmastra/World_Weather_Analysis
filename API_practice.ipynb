{
 "cells": [
  {
   "cell_type": "code",
   "execution_count": 1,
   "id": "d0ec2c0b",
   "metadata": {},
   "outputs": [],
   "source": [
    "import pandas as pd\n",
    "import matplotlib.pyplot as plt\n",
    "import numpy as np\n",
    "import random\n",
    "\n",
    "# Use the citipy module to determine city based on latitude and longitude.\n",
    "from citipy import citipy\n"
   ]
  },
  {
   "cell_type": "code",
   "execution_count": 2,
   "id": "31fd45a3",
   "metadata": {},
   "outputs": [
    {
     "data": {
      "text/plain": [
       "<zip at 0x1c4c0521cc8>"
      ]
     },
     "execution_count": 2,
     "metadata": {},
     "output_type": "execute_result"
    }
   ],
   "source": [
    "# Create a set of random latitude and longitude combinations.\n",
    "# I think -90 to 90 is too likely to pick a non populated area\n",
    "# Even using -60 to 70 you are going to get some extremely remote locations, most over water \n",
    "maxsize = 20\n",
    "lats = np.random.uniform(low=-60.000, high=70.000, size=maxsize)\n",
    "lngs = np.random.uniform(low=-180.000, high=180.000, size=maxsize)\n",
    "lat_lngs = zip(lats, lngs)\n",
    "lat_lngs"
   ]
  },
  {
   "cell_type": "code",
   "execution_count": 3,
   "id": "8bd77d72",
   "metadata": {},
   "outputs": [],
   "source": [
    "# Create a practice set of random latitude and longitude combinations.\n",
    "x = [25.12903645, 25.92017388, 26.62509167, -59.98969384, 37.30571269]\n",
    "y = [-67.59741259, 11.09532135, 74.84233102, -76.89176677, -61.13376282]\n",
    "coordinates = zip(x, y)"
   ]
  },
  {
   "cell_type": "code",
   "execution_count": 4,
   "id": "c16a325e",
   "metadata": {},
   "outputs": [
    {
     "name": "stdout",
     "output_type": "stream",
     "text": [
      "25.12903645 -67.59741259\n",
      "25.92017388 11.09532135\n",
      "26.62509167 74.84233102\n",
      "-59.98969384 -76.89176677\n",
      "37.30571269 -61.13376282\n"
     ]
    }
   ],
   "source": [
    "# Use the tuple() function to display the latitude and longitude combinations.\n",
    "for coordinate in coordinates:\n",
    "    print(coordinate[0], coordinate[1])"
   ]
  },
  {
   "cell_type": "code",
   "execution_count": 5,
   "id": "e8015f2c",
   "metadata": {},
   "outputs": [
    {
     "data": {
      "text/plain": [
       "[(-43.24823817670335, -85.6917354755106),\n",
       " (43.4339383425295, 81.28504297475257),\n",
       " (30.164188854792897, -107.43944615317415),\n",
       " (33.793237299846936, -103.92972118060293),\n",
       " (6.874556175637679, 83.92166082221883),\n",
       " (27.721661350040847, -41.29220215184955),\n",
       " (8.92097202013693, 158.95131154545663),\n",
       " (-3.953725648445129, 105.99493281136813),\n",
       " (-19.01502341553239, 157.15615593464872),\n",
       " (33.87679210068248, -105.56702797100941),\n",
       " (49.06922528473882, 60.18457163750705),\n",
       " (2.925753463433132, 131.78671114567896),\n",
       " (58.36611887852192, 113.64215058381387),\n",
       " (-52.887517794457374, 11.569644255530307),\n",
       " (46.1502396947549, -30.945079810386403),\n",
       " (40.145311091506, -166.65219302536875),\n",
       " (24.076614813991583, 161.08916400143482),\n",
       " (21.619987888806264, -172.4239000609324),\n",
       " (-30.957646811614996, -98.22439449666338),\n",
       " (-7.861623024466674, -88.54306646515096)]"
      ]
     },
     "execution_count": 5,
     "metadata": {},
     "output_type": "execute_result"
    }
   ],
   "source": [
    "# Add the latitudes and longitudes to a list.\n",
    "coordinates = list(lat_lngs)\n",
    "coordinates"
   ]
  },
  {
   "cell_type": "code",
   "execution_count": 6,
   "id": "8affc791",
   "metadata": {},
   "outputs": [
    {
     "name": "stdout",
     "output_type": "stream",
     "text": [
      "castro cl\n",
      "yining cn\n",
      "san buenaventura mx\n",
      "portales us\n",
      "kalmunai lk\n",
      "ribeira grande pt\n",
      "kavieng pg\n",
      "metro id\n",
      "poum nc\n",
      "ruidoso us\n",
      "dombarovskiy ru\n",
      "sorong id\n",
      "vitimskiy ru\n",
      "hermanus za\n",
      "lagoa pt\n",
      "kapaa us\n",
      "hasaki jp\n",
      "kapaa us\n",
      "lebu cl\n",
      "san cristobal ec\n"
     ]
    }
   ],
   "source": [
    "# These coords are in WV\n",
    "coordinate_x = 38.809 \n",
    "coordinate_y = -77.882\n",
    "\n",
    "#someone else already invented the wheel for cities so lets use it \n",
    "for coordinate in coordinates:\n",
    "    print(citipy.nearest_city(coordinate[0], coordinate[1]).city_name,\n",
    "          citipy.nearest_city(coordinate[0], coordinate[1]).country_code)\n",
    "    \n"
   ]
  }
 ],
 "metadata": {
  "kernelspec": {
   "display_name": "PythonData",
   "language": "python",
   "name": "pythondata"
  },
  "language_info": {
   "codemirror_mode": {
    "name": "ipython",
    "version": 3
   },
   "file_extension": ".py",
   "mimetype": "text/x-python",
   "name": "python",
   "nbconvert_exporter": "python",
   "pygments_lexer": "ipython3",
   "version": "3.7.10"
  }
 },
 "nbformat": 4,
 "nbformat_minor": 5
}
