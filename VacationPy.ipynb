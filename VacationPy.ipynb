{
 "cells": [
  {
   "cell_type": "code",
   "execution_count": 1,
   "id": "6794ce95",
   "metadata": {},
   "outputs": [],
   "source": [
    "# Import the dependencies.\n",
    "import pandas as pd\n",
    "\n",
    "# still need to install gmaps in the back end using anaconda prompt- this might be a good office hours question\n",
    "# it was still waiting for a y/n answer so it had not installed yet\n",
    "import gmaps\n",
    "import gmaps.datasets\n",
    "\n",
    "import requests\n",
    "# Import the API key.\n",
    "from config import g_key"
   ]
  },
  {
   "cell_type": "code",
   "execution_count": 2,
   "id": "46888616",
   "metadata": {},
   "outputs": [],
   "source": [
    "# Configure gmaps to use your Google API key.\n",
    "gmaps.configure(api_key=g_key)\n"
   ]
  },
  {
   "cell_type": "code",
   "execution_count": 3,
   "id": "85a06b1d",
   "metadata": {},
   "outputs": [
    {
     "data": {
      "text/html": [
       "<div>\n",
       "<style scoped>\n",
       "    .dataframe tbody tr th:only-of-type {\n",
       "        vertical-align: middle;\n",
       "    }\n",
       "\n",
       "    .dataframe tbody tr th {\n",
       "        vertical-align: top;\n",
       "    }\n",
       "\n",
       "    .dataframe thead th {\n",
       "        text-align: right;\n",
       "    }\n",
       "</style>\n",
       "<table border=\"1\" class=\"dataframe\">\n",
       "  <thead>\n",
       "    <tr style=\"text-align: right;\">\n",
       "      <th></th>\n",
       "      <th>City_ID</th>\n",
       "      <th>City</th>\n",
       "      <th>Country</th>\n",
       "      <th>Date</th>\n",
       "      <th>Lat</th>\n",
       "      <th>Lng</th>\n",
       "      <th>Max Temp</th>\n",
       "      <th>Humidity</th>\n",
       "      <th>Cloudiness</th>\n",
       "      <th>Wind Speed</th>\n",
       "    </tr>\n",
       "  </thead>\n",
       "  <tbody>\n",
       "    <tr>\n",
       "      <th>0</th>\n",
       "      <td>0</td>\n",
       "      <td>Kapaa</td>\n",
       "      <td>US</td>\n",
       "      <td>2021-07-27 18:14:41</td>\n",
       "      <td>22.0752</td>\n",
       "      <td>-159.3190</td>\n",
       "      <td>80.92</td>\n",
       "      <td>81</td>\n",
       "      <td>40</td>\n",
       "      <td>1.01</td>\n",
       "    </tr>\n",
       "    <tr>\n",
       "      <th>1</th>\n",
       "      <td>1</td>\n",
       "      <td>Fairbanks</td>\n",
       "      <td>US</td>\n",
       "      <td>2021-07-27 18:14:42</td>\n",
       "      <td>64.8378</td>\n",
       "      <td>-147.7164</td>\n",
       "      <td>63.10</td>\n",
       "      <td>77</td>\n",
       "      <td>90</td>\n",
       "      <td>4.61</td>\n",
       "    </tr>\n",
       "    <tr>\n",
       "      <th>2</th>\n",
       "      <td>2</td>\n",
       "      <td>Avarua</td>\n",
       "      <td>CK</td>\n",
       "      <td>2021-07-27 18:14:42</td>\n",
       "      <td>-21.2078</td>\n",
       "      <td>-159.7750</td>\n",
       "      <td>69.85</td>\n",
       "      <td>83</td>\n",
       "      <td>40</td>\n",
       "      <td>3.44</td>\n",
       "    </tr>\n",
       "    <tr>\n",
       "      <th>3</th>\n",
       "      <td>3</td>\n",
       "      <td>North Aurora</td>\n",
       "      <td>US</td>\n",
       "      <td>2021-07-27 18:14:28</td>\n",
       "      <td>41.8061</td>\n",
       "      <td>-88.3273</td>\n",
       "      <td>85.28</td>\n",
       "      <td>63</td>\n",
       "      <td>90</td>\n",
       "      <td>1.01</td>\n",
       "    </tr>\n",
       "    <tr>\n",
       "      <th>4</th>\n",
       "      <td>4</td>\n",
       "      <td>Vanderhoof</td>\n",
       "      <td>CA</td>\n",
       "      <td>2021-07-27 18:09:52</td>\n",
       "      <td>54.0166</td>\n",
       "      <td>-124.0198</td>\n",
       "      <td>66.22</td>\n",
       "      <td>40</td>\n",
       "      <td>18</td>\n",
       "      <td>4.43</td>\n",
       "    </tr>\n",
       "  </tbody>\n",
       "</table>\n",
       "</div>"
      ],
      "text/plain": [
       "   City_ID          City Country                 Date      Lat       Lng  \\\n",
       "0        0         Kapaa      US  2021-07-27 18:14:41  22.0752 -159.3190   \n",
       "1        1     Fairbanks      US  2021-07-27 18:14:42  64.8378 -147.7164   \n",
       "2        2        Avarua      CK  2021-07-27 18:14:42 -21.2078 -159.7750   \n",
       "3        3  North Aurora      US  2021-07-27 18:14:28  41.8061  -88.3273   \n",
       "4        4    Vanderhoof      CA  2021-07-27 18:09:52  54.0166 -124.0198   \n",
       "\n",
       "   Max Temp  Humidity  Cloudiness  Wind Speed  \n",
       "0     80.92        81          40        1.01  \n",
       "1     63.10        77          90        4.61  \n",
       "2     69.85        83          40        3.44  \n",
       "3     85.28        63          90        1.01  \n",
       "4     66.22        40          18        4.43  "
      ]
     },
     "execution_count": 3,
     "metadata": {},
     "output_type": "execute_result"
    }
   ],
   "source": [
    "# Store the CSV you saved created in part one into a DataFrame.\n",
    "city_data_df = pd.read_csv(\"weather_data/cities.csv\")\n",
    "city_data_df.head()\n",
    "# I love it love it love it"
   ]
  },
  {
   "cell_type": "code",
   "execution_count": 4,
   "id": "ecd13b29",
   "metadata": {},
   "outputs": [],
   "source": [
    "# Get the maximum temperature.\n",
    "max_temp = city_data_df[\"Max Temp\"]\n",
    "temps = []\n",
    "for temp in max_temp:\n",
    "    temps.append(max(temp, 0))\n",
    "# temps"
   ]
  },
  {
   "cell_type": "code",
   "execution_count": 5,
   "id": "1c21a28e",
   "metadata": {},
   "outputs": [
    {
     "data": {
      "text/html": [
       "<div>\n",
       "<style scoped>\n",
       "    .dataframe tbody tr th:only-of-type {\n",
       "        vertical-align: middle;\n",
       "    }\n",
       "\n",
       "    .dataframe tbody tr th {\n",
       "        vertical-align: top;\n",
       "    }\n",
       "\n",
       "    .dataframe thead th {\n",
       "        text-align: right;\n",
       "    }\n",
       "</style>\n",
       "<table border=\"1\" class=\"dataframe\">\n",
       "  <thead>\n",
       "    <tr style=\"text-align: right;\">\n",
       "      <th></th>\n",
       "      <th>Lat</th>\n",
       "      <th>Lng</th>\n",
       "    </tr>\n",
       "  </thead>\n",
       "  <tbody>\n",
       "    <tr>\n",
       "      <th>0</th>\n",
       "      <td>22.0752</td>\n",
       "      <td>-159.3190</td>\n",
       "    </tr>\n",
       "    <tr>\n",
       "      <th>1</th>\n",
       "      <td>64.8378</td>\n",
       "      <td>-147.7164</td>\n",
       "    </tr>\n",
       "    <tr>\n",
       "      <th>2</th>\n",
       "      <td>-21.2078</td>\n",
       "      <td>-159.7750</td>\n",
       "    </tr>\n",
       "    <tr>\n",
       "      <th>3</th>\n",
       "      <td>41.8061</td>\n",
       "      <td>-88.3273</td>\n",
       "    </tr>\n",
       "    <tr>\n",
       "      <th>4</th>\n",
       "      <td>54.0166</td>\n",
       "      <td>-124.0198</td>\n",
       "    </tr>\n",
       "  </tbody>\n",
       "</table>\n",
       "</div>"
      ],
      "text/plain": [
       "       Lat       Lng\n",
       "0  22.0752 -159.3190\n",
       "1  64.8378 -147.7164\n",
       "2 -21.2078 -159.7750\n",
       "3  41.8061  -88.3273\n",
       "4  54.0166 -124.0198"
      ]
     },
     "execution_count": 5,
     "metadata": {},
     "output_type": "execute_result"
    }
   ],
   "source": [
    "# Get the latitude and longitude.\n",
    "locations = city_data_df[[\"Lat\", \"Lng\"]]\n",
    "locations.head(5)"
   ]
  },
  {
   "cell_type": "code",
   "execution_count": 6,
   "id": "fe30889c",
   "metadata": {
    "scrolled": true
   },
   "outputs": [
    {
     "data": {
      "application/vnd.jupyter.widget-view+json": {
       "model_id": "6350302d7c0242b2be6a890fd75422e1",
       "version_major": 2,
       "version_minor": 0
      },
      "text/plain": [
       "Figure(layout=FigureLayout(height='420px'))"
      ]
     },
     "metadata": {},
     "output_type": "display_data"
    }
   ],
   "source": [
    "# Heatmap of temperature - not working so maybe it has to do with my Google account ?\n",
    "\n",
    "# Assign the figure variable.\n",
    "# fig = gmaps.figure()\n",
    "fig = gmaps.figure(center=(38.8, -77.223), zoom_level=12)\n",
    "\n",
    "#lets make some of the paramters easier to play with\n",
    "intensity_p = 110\n",
    "rad_p = 25\n",
    "\n",
    "# from the gmaps documentation - these are recommended settings\n",
    "# higher max seems to make the circle less hot - that is counter intuitive but I will go with it for now\n",
    "# heatmap_layer.max_intensity = 100\n",
    "\n",
    "# changing the radius does not seem to have much effect\n",
    "# heatmap_layer.point_radius = 25\n",
    "\n",
    "# dissipating = False is what the lesson wants you to do but I do not like it\n",
    "diss_p = True\n",
    "\n",
    "#heat_layer = gmaps.heatmap_layer(locations, weights=temps)\n",
    "heat_layer = gmaps.heatmap_layer(locations, weights=temps, dissipating=diss_p, max_intensity=intensity_p, point_radius=rad_p)\n",
    "\n",
    "\n",
    "# Add the heatmap layer.\n",
    "fig.add_layer(heat_layer)\n",
    "# Call the figure to plot the data.\n",
    "\n",
    "fig"
   ]
  },
  {
   "cell_type": "code",
   "execution_count": 7,
   "id": "cc45641a",
   "metadata": {},
   "outputs": [],
   "source": [
    "# Something is fishy in Fishtown- why is New York Cith \"hotter\" than Texas or Mexico City? \n",
    "# Greenland should be left out of the calculations because nobody is ever going to go there\n"
   ]
  }
 ],
 "metadata": {
  "kernelspec": {
   "display_name": "PythonData",
   "language": "python",
   "name": "pythondata"
  },
  "language_info": {
   "codemirror_mode": {
    "name": "ipython",
    "version": 3
   },
   "file_extension": ".py",
   "mimetype": "text/x-python",
   "name": "python",
   "nbconvert_exporter": "python",
   "pygments_lexer": "ipython3",
   "version": "3.7.10"
  }
 },
 "nbformat": 4,
 "nbformat_minor": 5
}
